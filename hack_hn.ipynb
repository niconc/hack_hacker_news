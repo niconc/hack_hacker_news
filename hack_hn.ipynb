{
 "cells": [
  {
   "cell_type": "markdown",
   "metadata": {
    "collapsed": true
   },
   "source": [
    "# `Hack the Hacker News!`\n",
    "[Hacker News](https://news.ycombinator.com/) is a site started by the startup incubator [Y Combinator](https://www.ycombinator.com/), where user-submitted stories (known as \"posts\") are voted and commented upon, similar to [reddit](https://www.reddit.com/). Hacker News is extremely popular in technology and startup circles, and posts that make it to the top of Hacker News' listings can get hundreds of thousands of visitors as a result.\n",
    "\n",
    "This project is dedicated to Hacker News' ask & show posts categories. It'll try to analyse all the performance parameters of those two by diving deep into their data."
   ]
  },
  {
   "cell_type": "markdown",
   "metadata": {},
   "source": [
    "### The dataset.\n",
    "You can find the original data set [here](https://www.kaggle.com/hacker-news/hacker-news-posts), but note that the one we're going to be working with has been reduced from almost 300,000 rows to approximately 20,000 rows by removing all submissions that did not receive any comments, and then randomly sampling from the remaining submissions. \n",
    "\n",
    "**Below are descriptions of the columns:**\n",
    "\n",
    "`id` : The unique identifier from Hacker News for the post\n",
    "\n",
    "`title` : The title of the post\n",
    "\n",
    "`url` : The URL that the posts links to, if it the post has a URL\n",
    "\n",
    "`num_points` : The number of points the post acquired, calculated as the total number of upvotes minus the total number of downvotes\n",
    "\n",
    "`num_comments` : The number of comments that were made on the post\n",
    "\n",
    "`author` : The username of the person who submitted the post\n",
    "\n",
    "`created_at` : The date and time at which the post was submitted"
   ]
  },
  {
   "cell_type": "markdown",
   "metadata": {},
   "source": [
    "**Let's begin with the usual preparation of the dataset:**\n",
    "(link, read, list e.tc.)"
   ]
  },
  {
   "cell_type": "code",
   "execution_count": 1,
   "metadata": {
    "collapsed": false
   },
   "outputs": [],
   "source": [
    "# Read dataset.\n",
    "# --------------------------------------------\n",
    "# Import reader from module csv, open file and read data file.\n",
    "from csv import reader\n",
    "opened_file = open(\"hacker_news.csv\") # create a link to the file\n",
    "read_file = reader(opened_file)       # reader returns a list"
   ]
  },
  {
   "cell_type": "code",
   "execution_count": 2,
   "metadata": {
    "collapsed": false
   },
   "outputs": [
    {
     "name": "stdout",
     "output_type": "stream",
     "text": [
      "['id', 'title', 'url', 'num_points', 'num_comments', 'author', 'created_at'] \n",
      "\n",
      "['12224879', 'Interactive Dynamic Video', 'http://www.interactivedynamicvideo.com/', '386', '52', 'ne0phyte', '8/4/2016 11:52'] \n",
      "\n",
      "['10975351', 'How to Use Open Source and Shut the Fuck Up at the Same Time', 'http://hueniverse.com/2016/01/26/how-to-use-open-source-and-shut-the-fuck-up-at-the-same-time/', '39', '10', 'josep2', '1/26/2016 19:30'] \n",
      "\n",
      "['11964716', \"Florida DJs May Face Felony for April Fools' Water Joke\", 'http://www.thewire.com/entertainment/2013/04/florida-djs-april-fools-water-joke/63798/', '2', '1', 'vezycash', '6/23/2016 22:20'] \n",
      "\n",
      "['11919867', 'Technology ventures: From Idea to Enterprise', 'https://www.amazon.com/Technology-Ventures-Enterprise-Thomas-Byers/dp/0073523429', '3', '1', 'hswarna', '6/17/2016 0:01'] \n",
      "\n",
      "['10301696', 'Note by Note: The Making of Steinway L1037 (2007)', 'http://www.nytimes.com/2007/11/07/movies/07stein.html?_r=0', '8', '2', 'walterbell', '9/30/2015 4:12'] \n",
      "\n"
     ]
    }
   ],
   "source": [
    "# Create a list of the lists returned by read_file.\n",
    "hn = list(read_file)\n",
    "\n",
    "# Extract the header row, save it and then remove it.\n",
    "headers = hn[0]\n",
    "print(headers, \"\\n\")\n",
    "hn = hn[1:]\n",
    "\n",
    "# Display the first 5 rows.\n",
    "for row in hn[:5]:\n",
    "    print(row, \"\\n\")"
   ]
  },
  {
   "cell_type": "markdown",
   "metadata": {},
   "source": [
    "### Our target\n",
    "We're specifically interested in posts whose titles begin with either Ask HN or Show HN:\n",
    "\n",
    "- Users submit Ask HN posts to ask the Hacker News community a specific question, like:\n",
    "\n",
    ">**Ask HN**: How to improve my personal website?\n",
    "\n",
    ">**Ask HN**: Am I the only one outraged by Twitter shutting down share counts?\n",
    "\n",
    ">**Ask HN**: Aby recent changes to CSS that broke mobile?\n",
    "\n",
    "- Likewise, users submit Show HN posts to show the Hacker News community a project, product, or just generally something interesting, like:\n",
    "\n",
    ">**Show HN**: Wio Link  ESP8266 Based Web of Things Hardware Development Platform'\n",
    "\n",
    ">**Show HN**: Something pointless I made\n",
    "\n",
    ">**Show HN**: Shanhu.io, a programming playground powered by e8vm"
   ]
  },
  {
   "cell_type": "markdown",
   "metadata": {},
   "source": [
    "**Filter out the data:**\n",
    "Since we're only concerned with post titles beginning with Ask HN or Show HN, we'll create new lists of lists containing just the data for those titles."
   ]
  },
  {
   "cell_type": "code",
   "execution_count": 3,
   "metadata": {
    "collapsed": false
   },
   "outputs": [
    {
     "name": "stdout",
     "output_type": "stream",
     "text": [
      "ask_posts # of posts:\t 1744\n",
      "show_posts # of posts:\t 1162\n",
      "other_posts # of posts:\t 17194\n"
     ]
    }
   ],
   "source": [
    "ask_posts = []    # the posts about \"Ask HN\".\n",
    "show_posts = []   # the posts about \"Show HN\".\n",
    "other_posts = []  # all the other posts.\n",
    "\n",
    "# Loop throught each row in hn.\n",
    "for row in hn:\n",
    "    title = row[1] # get the title of the post.\n",
    "    # If the lowercase version of title starts with ask hn,\n",
    "    #append the row to ask_posts.\n",
    "    if title.lower().startswith(\"ask hn\"):\n",
    "        ask_posts.append(row)\n",
    "    \n",
    "    # if the lowercase version of title starts with show hn,\n",
    "    # append the row to show_posts.\n",
    "    elif title.lower().startswith(\"show hn\"):\n",
    "        show_posts.append(row)\n",
    "        \n",
    "    # else, append the row to other_posts.\n",
    "    else:\n",
    "        other_posts.append(row)\n",
    "        \n",
    "# Check the number of posts in ask_posts, show_posts, and other_posts.\n",
    "print(\"ask_posts # of posts:\\t\", len(ask_posts))\n",
    "print(\"show_posts # of posts:\\t\", len(show_posts))\n",
    "print(\"other_posts # of posts:\\t\", len(other_posts))"
   ]
  },
  {
   "cell_type": "markdown",
   "metadata": {},
   "source": [
    "**Let's checkout which one is receiving more comments on average:**"
   ]
  },
  {
   "cell_type": "code",
   "execution_count": 4,
   "metadata": {
    "collapsed": false
   },
   "outputs": [
    {
     "name": "stdout",
     "output_type": "stream",
     "text": [
      "Ask Posts Details:\n",
      "Total num. of comments: 24483, Total Posts 1744,\n",
      "Average num. of Comments 14.04\n",
      "\n",
      "Show Posts Details:\n",
      "Total num. of comments: 11988, Total Posts 1162,\n",
      "Average num. of Comments 10.32\n",
      "\n"
     ]
    }
   ],
   "source": [
    "# Calculate ask_posts total comments & average.\n",
    "total_ask_comments = 0\n",
    "for row in ask_posts:\n",
    "    total_ask_comments += int(row[4])\n",
    "\n",
    "# Calculate the average.\n",
    "avg_ask_comments = round(total_ask_comments / len(ask_posts), 2)\n",
    "print(\"Ask Posts Details:\\nTotal num. of comments: {}, Total Posts {},\\nAverage num. of Comments {}\\n\"\n",
    "      .format(total_ask_comments, len(ask_posts), avg_ask_comments))\n",
    "\n",
    "# Calculate show_posts total comments & average.\n",
    "total_show_comments = 0\n",
    "for row in show_posts:\n",
    "    total_show_comments += int(row[4])\n",
    "\n",
    "# Calculate the average.\n",
    "avg_show_comments = round(total_show_comments / len(show_posts), 2)\n",
    "print(\"Show Posts Details:\\nTotal num. of comments: {}, Total Posts {},\\nAverage num. of Comments {}\\n\"\n",
    "      .format(total_show_comments, len(show_posts), avg_show_comments))\n"
   ]
  },
  {
   "cell_type": "markdown",
   "metadata": {},
   "source": [
    "### Which receiving more comments on average?\n",
    "According to the previous snippet, \"Ask HN\" posts is receiving more comments. More presicely, it recieves 27% more comments than \"Show HN\" posts."
   ]
  },
  {
   "cell_type": "code",
   "execution_count": 5,
   "metadata": {
    "collapsed": true
   },
   "outputs": [],
   "source": [
    "import numpy as np\n",
    "import matplotlib.pyplot as plt\n",
    "%matplotlib inline"
   ]
  },
  {
   "cell_type": "markdown",
   "metadata": {},
   "source": [
    "**Display average comments in a horizontal bar plot**"
   ]
  },
  {
   "cell_type": "code",
   "execution_count": 6,
   "metadata": {
    "collapsed": false
   },
   "outputs": [
    {
     "data": {
      "image/png": "[encoded data removed]",
      "text/plain": [
       "<matplotlib.figure.Figure at 0x7f1952b1d1d0>"
      ]
     },
     "metadata": {},
     "output_type": "display_data"
    }
   ],
   "source": [
    "# The dataset\n",
    "height = [avg_ask_comments, avg_show_comments]\n",
    "bars = (\"Ask HN\", \"Show HN\")\n",
    "y_pos = np.arange(len(bars))\n",
    " \n",
    "# Create horizontal bars\n",
    "plt.barh(y_pos, height)\n",
    " \n",
    "# Create names on the y-axis and set fontsize in both axes\n",
    "plt.yticks(y_pos, bars, fontsize=12)\n",
    "plt.xticks(fontsize=12)\n",
    "# Add the main title\n",
    "plt.title(\"Ask HN vs. Show HN on Average Comments\", fontsize=14)\n",
    "\n",
    "# Show graphic\n",
    "plt.show()\n"
   ]
  },
  {
   "cell_type": "markdown",
   "metadata": {},
   "source": [
    "Next, we'll determine if ask posts created at a certain time are more likely to attract comments. We'll use the following steps to perform this analysis:\n",
    "\n",
    "1. Calculate the amount of ask posts created in each hour of the day, along with the number of comments received.\n",
    "\n",
    "\n",
    "2. Calculate the average number of comments ask posts receive by hour created."
   ]
  },
  {
   "cell_type": "code",
   "execution_count": 7,
   "metadata": {
    "collapsed": false
   },
   "outputs": [
    {
     "name": "stdout",
     "output_type": "stream",
     "text": [
      "[['8/16/2016 9:55', 6], ['11/22/2015 13:43', 29], ['5/2/2016 10:14', 1], ['8/2/2016 14:20', 3], ['10/15/2015 16:38', 17]] ... \n",
      "\n",
      "Ask posts during each hour of the day:\n",
      "00: 55\n",
      "01: 60\n",
      "02: 58\n",
      "03: 54\n",
      "04: 47\n",
      "05: 46\n",
      "06: 44\n",
      "07: 34\n",
      "08: 48\n",
      "09: 45\n",
      "10: 59\n",
      "11: 58\n",
      "12: 73\n",
      "13: 85\n",
      "14: 107\n",
      "15: 116\n",
      "16: 108\n",
      "17: 100\n",
      "18: 109\n",
      "19: 110\n",
      "20: 80\n",
      "21: 109\n",
      "22: 71\n",
      "23: 68\n",
      "\n",
      "Total comments recieved by Ask posts during each hour of the day:\n",
      "00: 55\n",
      "01: 60\n",
      "02: 58\n",
      "03: 54\n",
      "04: 47\n",
      "05: 46\n",
      "06: 44\n",
      "07: 34\n",
      "08: 48\n",
      "09: 45\n",
      "10: 59\n",
      "11: 58\n",
      "12: 73\n",
      "13: 85\n",
      "14: 107\n",
      "15: 116\n",
      "16: 108\n",
      "17: 100\n",
      "18: 109\n",
      "19: 110\n",
      "20: 80\n",
      "21: 109\n",
      "22: 71\n",
      "23: 68\n"
     ]
    }
   ],
   "source": [
    "import datetime as dt\n",
    "\n",
    "result_list = [] # a list of lists.\n",
    "# Loop over ask_posts and append to result_list a list with two elements:\n",
    "for row in ask_posts:\n",
    "    # 1: created_at, 2: num_comments\n",
    "    elements = [row[6], int(row[4])]\n",
    "    result_list.append(elements)\n",
    "    \n",
    "print(result_list[:5], \"...\", \"\\n\")\n",
    "\n",
    "counts_by_hour = {}\n",
    "comments_by_hour = {}\n",
    "\n",
    "# Loop over lists (datetime, comments) in result_list.\n",
    "for item in result_list:\n",
    "    # extract the datetime string from the list\n",
    "    dt_string = item[0]\n",
    "    \n",
    "    # create a datetime object from the previous string with the format\n",
    "    # as presented in the string: \"'11/22/2015 13:43\" (mm/dd/yyyy HH:MM)\n",
    "    dt_object = dt.datetime.strptime(dt_string, \"%m/%d/%Y %H:%M\")\n",
    "    \n",
    "    # Select just the hour from the datetime object.\n",
    "    hourOnly = dt_object.strftime(\"%H\")\n",
    "\n",
    "    # Add hour as a key in the dictionary\n",
    "    if hourOnly not in counts_by_hour:\n",
    "        # add hour as a key in counts_by_hour and with value = 1.\n",
    "        counts_by_hour[hourOnly] = 1\n",
    "        # add hour as a key in comments_by_hour and with value = comments.\n",
    "        comments_by_hour[hourOnly] = item[1] # \n",
    "    else:\n",
    "        # just increase the counter value by 1.\n",
    "        counts_by_hour[hourOnly] += 1\n",
    "        # and add the number of comments to value of comments_by_hour.\n",
    "        comments_by_hour[hourOnly] += item[1] # \n",
    "\n",
    "# Printed in ascending order by hours:\n",
    "print(\"Ask posts during each hour of the day:\")\n",
    "for key in sorted(counts_by_hour):\n",
    "    print(\"%s: %s\" % (key, counts_by_hour[key]))\n",
    "\n",
    "print(\"\\nTotal comments recieved by Ask posts during each hour of the day:\")\n",
    "for key in sorted(comments_by_hour):\n",
    "    print(\"{}: {}\".format(key, counts_by_hour[key]))\n"
   ]
  },
  {
   "cell_type": "code",
   "execution_count": 8,
   "metadata": {
    "collapsed": false
   },
   "outputs": [
    {
     "name": "stdout",
     "output_type": "stream",
     "text": [
      "Average number of comments per \"Ask\" post per hour of day:\n",
      "[['16', 16.8], ['00', 8.13], ['12', 9.41], ['17', 11.46], ['01', 11.38], ['14', 13.23], ['18', 13.2], ['19', 10.8], ['02', 23.81], ['06', 9.02], ['09', 5.58], ['15', 38.59], ['20', 21.52], ['03', 7.8], ['10', 13.44], ['08', 10.25], ['21', 16.01], ['23', 7.99], ['11', 11.05], ['05', 10.09], ['04', 7.17], ['13', 14.74], ['07', 7.85], ['22', 6.75]]\n"
     ]
    }
   ],
   "source": [
    "# Calculate the average number of comments per post\n",
    "# for posts created during each hour of the day.\n",
    "avg_by_hour = []\n",
    "\n",
    "# loop over the comments dict\n",
    "for key in comments_by_hour: \n",
    "    hour = key # the hour of the day (hour is the key.)\n",
    "\n",
    "    # the total num of comments for the selected hour.\n",
    "    num_of_comm = comments_by_hour[hour]\n",
    "    \n",
    "    # the total number of posts for the selected hour.\n",
    "    num_of_posts = counts_by_hour[hour]\n",
    "    \n",
    "    avgComm = num_of_comm / num_of_posts\n",
    "    avg_by_hour.append([hour, round(avgComm, 2)])\n",
    "\n",
    "print(\"Average number of comments per \\\"Ask\\\" post per hour of day:\")\n",
    "print(avg_by_hour)"
   ]
  },
  {
   "cell_type": "markdown",
   "metadata": {},
   "source": [
    "Although we now have the results we need, this format makes it hard to identify the hours with the highest values. Let's finish by sorting the list of lists and printing the five highest values in a format that's easier to read."
   ]
  },
  {
   "cell_type": "code",
   "execution_count": 9,
   "metadata": {
    "collapsed": false
   },
   "outputs": [
    {
     "name": "stdout",
     "output_type": "stream",
     "text": [
      "Top 5 Hours for Ask Post Comments\n",
      "16:00: 16.80 average comments per post\n",
      "00:00: 8.13 average comments per post\n",
      "12:00: 9.41 average comments per post\n",
      "17:00: 11.46 average comments per post\n",
      "01:00: 11.38 average comments per post\n"
     ]
    }
   ],
   "source": [
    "# Swapping the hours with the comments\n",
    "swap_avg_by_hour = []\n",
    "\n",
    "# Loop through the avg_by_hour\n",
    "for row in avg_by_hour:\n",
    "    # Get first the num of comments and second the hour of the day\n",
    "    # and append it to the list above\n",
    "    swap_avg_by_hour.append([row[1], row[0]])\n",
    "\n",
    "# Sort the list and print a sample.\n",
    "sorted_swap = sorted(swap_avg_by_hour, reverse=True)\n",
    "print(\"Top 5 Hours for Ask Post Comments\")\n",
    "\n",
    "# Define \n",
    "def find_best_hours(list):\n",
    "    for avgPost in list:\n",
    "        hour = avgPost[1] # get the hour.\n",
    "        avg = avgPost[0]  # get the num of comments.\n",
    "        \n",
    "        # Convert the hour string (it's stored as a string in dict)\n",
    "        # into a datetime object. Use the proper format:\n",
    "        # e.g. \"17\" = \"%H\" because we have only hours.\n",
    "        hour_dt_Obj = dt.datetime.strptime(hour, \"%H\")\n",
    "        \n",
    "        # Get the hour (and minutes) from the object.\n",
    "        strTime = hour_dt_Obj.strftime(\"%H:%M\")\n",
    "        \n",
    "        print(\"{}: {:.2f} average comments per post\".format(strTime, avg))\n",
    "\n",
    "find_best_hours(swap_avg_by_hour[:5])"
   ]
  },
  {
   "cell_type": "markdown",
   "metadata": {},
   "source": [
    "## Which is the best hour, then?\n",
    "Which hours should you create a post during to have a higher chance of receiving comments? Refer back to the documentation for the data set to convert the times to the time zone you live in.\n",
    "\n",
    "**The column \"created_at\"** : The date and time the post was made (the time zone is Eastern Time in the US).\n",
    "\n",
    "**Answer** : My timezone is +07:00h (Athens) from eastern Time in the US. So, to find the best time for me, I'll add 7, to the current findings:"
   ]
  },
  {
   "cell_type": "code",
   "execution_count": 10,
   "metadata": {
    "collapsed": false
   },
   "outputs": [
    {
     "name": "stdout",
     "output_type": "stream",
     "text": [
      "Top 5 Hours for Ask Post Comments (in Athens local time -- +07:00h)\n",
      "23:00: 16.80 average comments per post\n",
      "07:00: 8.13 average comments per post\n",
      "19:00: 9.41 average comments per post\n",
      "00:00: 11.46 average comments per post\n",
      "08:00: 11.38 average comments per post\n"
     ]
    }
   ],
   "source": [
    "def find_best_hours_local(list):\n",
    "    for avgPost in list:\n",
    "        hour = avgPost[1]\n",
    "        avg = avgPost[0]\n",
    "        hour_dt_Obj = dt.datetime.strptime(hour, \"%H\")\n",
    "        hour_dt_Obj += dt.timedelta(hours=7)\n",
    "        strTime = hour_dt_Obj.strftime(\"%H:%M\")\n",
    "        print(\"{}: {:.2f} average comments per post\".format(strTime, avg))\n",
    "\n",
    "print(\"Top 5 Hours for Ask Post Comments (in Athens local time -- +07:00h)\")\n",
    "find_best_hours_local(swap_avg_by_hour[:5])"
   ]
  },
  {
   "cell_type": "markdown",
   "metadata": {},
   "source": [
    "# The end!!!"
   ]
  }
 ],
 "metadata": {
  "kernelspec": {
   "display_name": "Python 3",
   "language": "python",
   "name": "python3"
  },
  "language_info": {
   "codemirror_mode": {
    "name": "ipython",
    "version": 3
   },
   "file_extension": ".py",
   "mimetype": "text/x-python",
   "name": "python",
   "nbconvert_exporter": "python",
   "pygments_lexer": "ipython3",
   "version": "3.4.3"
  }
 },
 "nbformat": 4,
 "nbformat_minor": 2
}
